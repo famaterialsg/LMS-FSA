{
 "cells": [
  {
   "cell_type": "code",
   "execution_count": 28,
   "metadata": {},
   "outputs": [],
   "source": [
    "from copy import deepcopy"
   ]
  },
  {
   "cell_type": "code",
   "execution_count": 7,
   "metadata": {},
   "outputs": [],
   "source": [
    "test = [\n",
    "            {'question': 'abc', 'options': ['A'], 'correct': ['A'], 'id': 1, 'question_type': 'MCQ'}, \n",
    "            {'question': 'abc', 'options': ['B'], 'correct': [], 'id': 1, 'question_type': 'MCQ'}, \n",
    "            {'question': 'abf', 'options': ['A'], 'correct': [], 'id': 2, 'question_type': 'MCQ'},\n",
    "            {'question': 'abf', 'options': ['B'], 'correct': ['B'], 'id': 2, 'question_type': 'MCQ'},\n",
    "            {'question': 'abf', 'options': ['C'], 'correct': [], 'id': 2, 'question_type': 'MCQ'},\n",
    "\n",
    "        ]"
   ]
  },
  {
   "cell_type": "code",
   "execution_count": 20,
   "metadata": {},
   "outputs": [],
   "source": [
    "class Answer():\n",
    "    def __init__(self, question, options, correct, id, question_type):\n",
    "        self.question, self.options, self.correct, self.id, self.question_type = question, options, correct, id, question_type\n",
    "\n",
    "    def __str__(self):\n",
    "        return str(f'{self.question}, {self.options}, {self.correct}, {self.id}, {self.question_type}')"
   ]
  },
  {
   "cell_type": "code",
   "execution_count": 35,
   "metadata": {},
   "outputs": [
    {
     "name": "stdout",
     "output_type": "stream",
     "text": [
      "abc, A, True, 1, MCQ\n",
      "None\n",
      "abc, B, False, 1, MCQ\n",
      "None\n",
      "abf, A, False, 2, MCQ\n",
      "None\n",
      "abf, B, True, 2, MCQ\n",
      "None\n",
      "abf, C, False, 2, MCQ\n",
      "None\n"
     ]
    }
   ],
   "source": [
    "final_test = [Answer(dictionary['question'], dictionary['options'][0], dictionary['correct']==dictionary['options'], dictionary['id'], dictionary['question_type'])\n",
    "              for dictionary\n",
    "              in test]\n",
    "for i in map(lambda x: print(x), final_test):\n",
    "    print(i)"
   ]
  },
  {
   "cell_type": "code",
   "execution_count": 36,
   "metadata": {},
   "outputs": [
    {
     "name": "stdout",
     "output_type": "stream",
     "text": [
      "[{'question': 'abc', 'answer': ['A'], 'key': ['A'], 'id': 1, 'question_type': 'MCQ'}]\n",
      "False\n",
      "[{'question': 'abc', 'answer': ['A', 'B'], 'key': ['A'], 'id': 1, 'question_type': 'MCQ'}]\n",
      "[{'question': 'abc', 'answer': ['A', 'B'], 'key': ['A'], 'id': 1, 'question_type': 'MCQ'}, {'question': 'abf', 'answer': ['A'], 'key': [], 'id': 2, 'question_type': 'MCQ'}]\n",
      "True\n",
      "[{'question': 'abc', 'answer': ['A', 'B'], 'key': ['A'], 'id': 1, 'question_type': 'MCQ'}, {'question': 'abf', 'answer': ['A', 'B'], 'key': ['B'], 'id': 2, 'question_type': 'MCQ'}]\n",
      "False\n",
      "[{'question': 'abc', 'answer': ['A', 'B'], 'key': ['A'], 'id': 1, 'question_type': 'MCQ'}, {'question': 'abf', 'answer': ['A', 'B', 'C'], 'key': ['B'], 'id': 2, 'question_type': 'MCQ'}]\n"
     ]
    }
   ],
   "source": [
    "questions_list = list()\n",
    "init = {\n",
    "                'question':None,\n",
    "                'answer':list(),\n",
    "                'key':list(),\n",
    "                'id':None,\n",
    "                'question_type':None\n",
    "            }\n",
    "for i in final_test:\n",
    "    if not i.question in map(lambda x: x['question'], questions_list):\n",
    "        dictionary = deepcopy(init)\n",
    "        dictionary['id'] = i.id\n",
    "        dictionary['question_type'] = i.question_type\n",
    "        dictionary['question'] = i.question\n",
    "        dictionary['answer'].append(i.options)\n",
    "        if i.correct:\n",
    "            dictionary['key'].append(i.options)\n",
    "        questions_list.append(dictionary)\n",
    "    else:\n",
    "        dictionary['answer'].append(i.options)\n",
    "        print(i.correct)\n",
    "        if i.correct:\n",
    "            dictionary['key'].append(i.options)\n",
    "\n",
    "    print(questions_list)\n",
    "\n",
    "# for i in questions_list:\n",
    "#     print(i)"
   ]
  },
  {
   "cell_type": "code",
   "execution_count": 4,
   "metadata": {},
   "outputs": [
    {
     "ename": "TypeError",
     "evalue": "A.print_str() missing 1 required positional argument: 'something'",
     "output_type": "error",
     "traceback": [
      "\u001b[1;31m---------------------------------------------------------------------------\u001b[0m",
      "\u001b[1;31mTypeError\u001b[0m                                 Traceback (most recent call last)",
      "Cell \u001b[1;32mIn[4], line 5\u001b[0m\n\u001b[0;32m      2\u001b[0m     \u001b[38;5;28;01mdef\u001b[39;00m \u001b[38;5;21mprint_str\u001b[39m(\u001b[38;5;28mself\u001b[39m, something):\n\u001b[0;32m      3\u001b[0m         \u001b[38;5;28mprint\u001b[39m(something)\n\u001b[1;32m----> 5\u001b[0m \u001b[43mA\u001b[49m\u001b[38;5;241;43m.\u001b[39;49m\u001b[43mprint_str\u001b[49m\u001b[43m(\u001b[49m\u001b[38;5;124;43m'\u001b[39;49m\u001b[38;5;124;43mwdasdas\u001b[39;49m\u001b[38;5;124;43m'\u001b[39;49m\u001b[43m)\u001b[49m\n",
      "\u001b[1;31mTypeError\u001b[0m: A.print_str() missing 1 required positional argument: 'something'"
     ]
    }
   ],
   "source": [
    "class A:\n",
    "    def print_str(self, something):\n",
    "        print(something)\n",
    "\n",
    "A.print_str('wdasdas')"
   ]
  },
  {
   "cell_type": "code",
   "execution_count": 2,
   "metadata": {},
   "outputs": [],
   "source": [
    "test = {\n",
    "    'a':1,\n",
    "    'b':2\n",
    "}\n",
    "test.pop('c', None)"
   ]
  }
 ],
 "metadata": {
  "kernelspec": {
   "display_name": "env3115",
   "language": "python",
   "name": "python3"
  },
  "language_info": {
   "codemirror_mode": {
    "name": "ipython",
    "version": 3
   },
   "file_extension": ".py",
   "mimetype": "text/x-python",
   "name": "python",
   "nbconvert_exporter": "python",
   "pygments_lexer": "ipython3",
   "version": "3.11.5"
  }
 },
 "nbformat": 4,
 "nbformat_minor": 2
}
